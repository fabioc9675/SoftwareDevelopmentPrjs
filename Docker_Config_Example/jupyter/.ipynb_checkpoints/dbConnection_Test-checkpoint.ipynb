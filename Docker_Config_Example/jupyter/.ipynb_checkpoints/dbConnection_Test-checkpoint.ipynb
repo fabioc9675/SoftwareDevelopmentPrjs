{
 "cells": [
  {
   "cell_type": "code",
   "execution_count": 1,
   "id": "460d5722-4a06-4185-8332-79a8f59f7cbe",
   "metadata": {},
   "outputs": [],
   "source": [
    "import psycopg2"
   ]
  },
  {
   "cell_type": "code",
   "execution_count": 4,
   "id": "515e8722-7181-4dd8-8b86-373ecec9195f",
   "metadata": {},
   "outputs": [],
   "source": [
    "connection = psycopg2.connect(\n",
    "    host=\"postgresql\",\n",
    "    port=5432,\n",
    "    dbname=\"test\",\n",
    "    user=\"user\",\n",
    "    password=\"1234\"\n",
    ")"
   ]
  },
  {
   "cell_type": "code",
   "execution_count": 5,
   "id": "25d41b92-4ce2-4184-8d74-58a8a98ab790",
   "metadata": {},
   "outputs": [],
   "source": [
    "cursor = connection.cursor()"
   ]
  },
  {
   "cell_type": "code",
   "execution_count": 7,
   "id": "cfc91891-90db-48c4-898e-277665e69d0c",
   "metadata": {},
   "outputs": [
    {
     "data": {
      "text/plain": [
       "[('ce0f541169388da122fdb9e823e16330',),\n",
       " ('9882077fdd2b5ec3780ead4529a760f4',),\n",
       " ('84b2f7eee11d24227c902c2b1ddb0b24',),\n",
       " ('45f6d6404ed8ddd5c143c8f32ac9d1cb',),\n",
       " ('4dc03dbc2bcaa072b9b2dff4f970bb50',),\n",
       " ('85e35ba8ac3c3be10f1c68328370d9a7',),\n",
       " ('b7b8f40b35c412ea86491fa91a0c78f2',),\n",
       " ('f89c399a4d5175bb03111d89d8a8c131',),\n",
       " ('43f1faa9ee0e596d0b3c378376950f58',),\n",
       " ('48c68a04ae32a692fec68d89aa575e9a',)]"
      ]
     },
     "execution_count": 7,
     "metadata": {},
     "output_type": "execute_result"
    }
   ],
   "source": [
    "cursor.execute(\"SELECT * FROM test_table;\")\n",
    "cursor.fetchall()"
   ]
  },
  {
   "cell_type": "code",
   "execution_count": null,
   "id": "47bbcc1d-9ed6-4542-bd04-db0117a849ea",
   "metadata": {},
   "outputs": [],
   "source": []
  }
 ],
 "metadata": {
  "kernelspec": {
   "display_name": "Python 3 (ipykernel)",
   "language": "python",
   "name": "python3"
  },
  "language_info": {
   "codemirror_mode": {
    "name": "ipython",
    "version": 3
   },
   "file_extension": ".py",
   "mimetype": "text/x-python",
   "name": "python",
   "nbconvert_exporter": "python",
   "pygments_lexer": "ipython3",
   "version": "3.8.5"
  }
 },
 "nbformat": 4,
 "nbformat_minor": 5
}
